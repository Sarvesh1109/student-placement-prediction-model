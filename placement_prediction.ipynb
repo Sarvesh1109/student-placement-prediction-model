{
 "cells": [
  {
   "cell_type": "code",
   "execution_count": 2,
   "id": "7d92c397",
   "metadata": {
    "ExecuteTime": {
     "end_time": "2025-01-03T13:57:59.539404Z",
     "start_time": "2025-01-03T13:56:49.155755Z"
    }
   },
   "outputs": [
    {
     "name": "stdout",
     "output_type": "stream",
     "text": [
      "Collecting xgboost\n",
      "  Downloading xgboost-2.1.3-py3-none-win_amd64.whl (124.9 MB)\n",
      "     -------------------------------------- 124.9/124.9 MB 2.5 MB/s eta 0:00:00\n",
      "Requirement already satisfied: scipy in c:\\users\\sarvesh\\anaconda3\\lib\\site-packages (from xgboost) (1.13.1)\n",
      "Requirement already satisfied: numpy in c:\\users\\sarvesh\\anaconda3\\lib\\site-packages (from xgboost) (1.26.4)\n",
      "Installing collected packages: xgboost\n",
      "Successfully installed xgboost-2.1.3\n"
     ]
    },
    {
     "name": "stderr",
     "output_type": "stream",
     "text": [
      "WARNING: You are using pip version 22.0.4; however, version 24.3.1 is available.\n",
      "You should consider upgrading via the 'C:\\Users\\Sarvesh\\anaconda3\\python.exe -m pip install --upgrade pip' command.\n"
     ]
    }
   ],
   "source": [
    "!pip install xgboost"
   ]
  },
  {
   "cell_type": "code",
   "execution_count": 3,
   "id": "6bce6716",
   "metadata": {
    "ExecuteTime": {
     "end_time": "2025-01-03T14:01:30.026895Z",
     "start_time": "2025-01-03T14:01:26.997035Z"
    }
   },
   "outputs": [],
   "source": [
    "import pandas as pd\n",
    "import numpy as np\n",
    "import matplotlib.pylab as plt\n",
    "import seaborn as sns\n",
    "from xgboost import XGBClassifier\n",
    "from sklearn.ensemble import VotingClassifier\n",
    "from sklearn.preprocessing import LabelEncoder\n",
    "from tabulate import tabulate\n",
    "from sklearn.tree import DecisionTreeClassifier\n",
    "from sklearn.metrics import accuracy_score\n",
    "from sklearn.naive_bayes import GaussianNB\n",
    "from sklearn.model_selection import train_test_split\n",
    "from sklearn.metrics import confusion_matrix, ConfusionMatrixDisplay\n",
    "from sklearn.metrics import precision_score, recall_score, f1_score, confusion_matrix, accuracy_score"
   ]
  },
  {
   "cell_type": "code",
   "execution_count": 4,
   "id": "15c3e380",
   "metadata": {
    "ExecuteTime": {
     "end_time": "2025-01-03T14:01:30.263339Z",
     "start_time": "2025-01-03T14:01:30.029390Z"
    }
   },
   "outputs": [
    {
     "data": {
      "text/html": [
       "<div>\n",
       "<style scoped>\n",
       "    .dataframe tbody tr th:only-of-type {\n",
       "        vertical-align: middle;\n",
       "    }\n",
       "\n",
       "    .dataframe tbody tr th {\n",
       "        vertical-align: top;\n",
       "    }\n",
       "\n",
       "    .dataframe thead th {\n",
       "        text-align: right;\n",
       "    }\n",
       "</style>\n",
       "<table border=\"1\" class=\"dataframe\">\n",
       "  <thead>\n",
       "    <tr style=\"text-align: right;\">\n",
       "      <th></th>\n",
       "      <th>StudentID</th>\n",
       "      <th>CGPA</th>\n",
       "      <th>Internships</th>\n",
       "      <th>Projects</th>\n",
       "      <th>Workshops/Certifications</th>\n",
       "      <th>AptitudeTestScore</th>\n",
       "      <th>SoftSkillsRating</th>\n",
       "      <th>ExtracurricularActivities</th>\n",
       "      <th>PlacementTraining</th>\n",
       "      <th>SSC_Marks</th>\n",
       "      <th>HSC_Marks</th>\n",
       "      <th>PlacementStatus</th>\n",
       "    </tr>\n",
       "  </thead>\n",
       "  <tbody>\n",
       "    <tr>\n",
       "      <th>0</th>\n",
       "      <td>1</td>\n",
       "      <td>7.5</td>\n",
       "      <td>1</td>\n",
       "      <td>1</td>\n",
       "      <td>1</td>\n",
       "      <td>65</td>\n",
       "      <td>4.4</td>\n",
       "      <td>No</td>\n",
       "      <td>No</td>\n",
       "      <td>61</td>\n",
       "      <td>79</td>\n",
       "      <td>NotPlaced</td>\n",
       "    </tr>\n",
       "    <tr>\n",
       "      <th>1</th>\n",
       "      <td>2</td>\n",
       "      <td>8.9</td>\n",
       "      <td>0</td>\n",
       "      <td>3</td>\n",
       "      <td>2</td>\n",
       "      <td>90</td>\n",
       "      <td>4.0</td>\n",
       "      <td>Yes</td>\n",
       "      <td>Yes</td>\n",
       "      <td>78</td>\n",
       "      <td>82</td>\n",
       "      <td>Placed</td>\n",
       "    </tr>\n",
       "    <tr>\n",
       "      <th>2</th>\n",
       "      <td>3</td>\n",
       "      <td>7.3</td>\n",
       "      <td>1</td>\n",
       "      <td>2</td>\n",
       "      <td>2</td>\n",
       "      <td>82</td>\n",
       "      <td>4.8</td>\n",
       "      <td>Yes</td>\n",
       "      <td>No</td>\n",
       "      <td>79</td>\n",
       "      <td>80</td>\n",
       "      <td>NotPlaced</td>\n",
       "    </tr>\n",
       "    <tr>\n",
       "      <th>3</th>\n",
       "      <td>4</td>\n",
       "      <td>7.5</td>\n",
       "      <td>1</td>\n",
       "      <td>1</td>\n",
       "      <td>2</td>\n",
       "      <td>85</td>\n",
       "      <td>4.4</td>\n",
       "      <td>Yes</td>\n",
       "      <td>Yes</td>\n",
       "      <td>81</td>\n",
       "      <td>80</td>\n",
       "      <td>Placed</td>\n",
       "    </tr>\n",
       "    <tr>\n",
       "      <th>4</th>\n",
       "      <td>5</td>\n",
       "      <td>8.3</td>\n",
       "      <td>1</td>\n",
       "      <td>2</td>\n",
       "      <td>2</td>\n",
       "      <td>86</td>\n",
       "      <td>4.5</td>\n",
       "      <td>Yes</td>\n",
       "      <td>Yes</td>\n",
       "      <td>74</td>\n",
       "      <td>88</td>\n",
       "      <td>Placed</td>\n",
       "    </tr>\n",
       "    <tr>\n",
       "      <th>...</th>\n",
       "      <td>...</td>\n",
       "      <td>...</td>\n",
       "      <td>...</td>\n",
       "      <td>...</td>\n",
       "      <td>...</td>\n",
       "      <td>...</td>\n",
       "      <td>...</td>\n",
       "      <td>...</td>\n",
       "      <td>...</td>\n",
       "      <td>...</td>\n",
       "      <td>...</td>\n",
       "      <td>...</td>\n",
       "    </tr>\n",
       "    <tr>\n",
       "      <th>9995</th>\n",
       "      <td>9996</td>\n",
       "      <td>7.5</td>\n",
       "      <td>1</td>\n",
       "      <td>1</td>\n",
       "      <td>2</td>\n",
       "      <td>72</td>\n",
       "      <td>3.9</td>\n",
       "      <td>Yes</td>\n",
       "      <td>No</td>\n",
       "      <td>85</td>\n",
       "      <td>66</td>\n",
       "      <td>NotPlaced</td>\n",
       "    </tr>\n",
       "    <tr>\n",
       "      <th>9996</th>\n",
       "      <td>9997</td>\n",
       "      <td>7.4</td>\n",
       "      <td>0</td>\n",
       "      <td>1</td>\n",
       "      <td>0</td>\n",
       "      <td>90</td>\n",
       "      <td>4.8</td>\n",
       "      <td>No</td>\n",
       "      <td>No</td>\n",
       "      <td>84</td>\n",
       "      <td>67</td>\n",
       "      <td>Placed</td>\n",
       "    </tr>\n",
       "    <tr>\n",
       "      <th>9997</th>\n",
       "      <td>9998</td>\n",
       "      <td>8.4</td>\n",
       "      <td>1</td>\n",
       "      <td>3</td>\n",
       "      <td>0</td>\n",
       "      <td>70</td>\n",
       "      <td>4.8</td>\n",
       "      <td>Yes</td>\n",
       "      <td>Yes</td>\n",
       "      <td>79</td>\n",
       "      <td>81</td>\n",
       "      <td>Placed</td>\n",
       "    </tr>\n",
       "    <tr>\n",
       "      <th>9998</th>\n",
       "      <td>9999</td>\n",
       "      <td>8.9</td>\n",
       "      <td>0</td>\n",
       "      <td>3</td>\n",
       "      <td>2</td>\n",
       "      <td>87</td>\n",
       "      <td>4.8</td>\n",
       "      <td>Yes</td>\n",
       "      <td>Yes</td>\n",
       "      <td>71</td>\n",
       "      <td>85</td>\n",
       "      <td>Placed</td>\n",
       "    </tr>\n",
       "    <tr>\n",
       "      <th>9999</th>\n",
       "      <td>10000</td>\n",
       "      <td>8.4</td>\n",
       "      <td>0</td>\n",
       "      <td>1</td>\n",
       "      <td>1</td>\n",
       "      <td>66</td>\n",
       "      <td>3.8</td>\n",
       "      <td>No</td>\n",
       "      <td>No</td>\n",
       "      <td>62</td>\n",
       "      <td>66</td>\n",
       "      <td>NotPlaced</td>\n",
       "    </tr>\n",
       "  </tbody>\n",
       "</table>\n",
       "<p>10000 rows × 12 columns</p>\n",
       "</div>"
      ],
      "text/plain": [
       "      StudentID  CGPA  Internships  Projects  Workshops/Certifications  \\\n",
       "0             1   7.5            1         1                         1   \n",
       "1             2   8.9            0         3                         2   \n",
       "2             3   7.3            1         2                         2   \n",
       "3             4   7.5            1         1                         2   \n",
       "4             5   8.3            1         2                         2   \n",
       "...         ...   ...          ...       ...                       ...   \n",
       "9995       9996   7.5            1         1                         2   \n",
       "9996       9997   7.4            0         1                         0   \n",
       "9997       9998   8.4            1         3                         0   \n",
       "9998       9999   8.9            0         3                         2   \n",
       "9999      10000   8.4            0         1                         1   \n",
       "\n",
       "      AptitudeTestScore  SoftSkillsRating ExtracurricularActivities  \\\n",
       "0                    65               4.4                        No   \n",
       "1                    90               4.0                       Yes   \n",
       "2                    82               4.8                       Yes   \n",
       "3                    85               4.4                       Yes   \n",
       "4                    86               4.5                       Yes   \n",
       "...                 ...               ...                       ...   \n",
       "9995                 72               3.9                       Yes   \n",
       "9996                 90               4.8                        No   \n",
       "9997                 70               4.8                       Yes   \n",
       "9998                 87               4.8                       Yes   \n",
       "9999                 66               3.8                        No   \n",
       "\n",
       "     PlacementTraining  SSC_Marks  HSC_Marks PlacementStatus  \n",
       "0                   No         61         79       NotPlaced  \n",
       "1                  Yes         78         82          Placed  \n",
       "2                   No         79         80       NotPlaced  \n",
       "3                  Yes         81         80          Placed  \n",
       "4                  Yes         74         88          Placed  \n",
       "...                ...        ...        ...             ...  \n",
       "9995                No         85         66       NotPlaced  \n",
       "9996                No         84         67          Placed  \n",
       "9997               Yes         79         81          Placed  \n",
       "9998               Yes         71         85          Placed  \n",
       "9999                No         62         66       NotPlaced  \n",
       "\n",
       "[10000 rows x 12 columns]"
      ]
     },
     "execution_count": 4,
     "metadata": {},
     "output_type": "execute_result"
    }
   ],
   "source": [
    "df=pd.read_csv('placedata.csv')\n",
    "df"
   ]
  },
  {
   "cell_type": "code",
   "execution_count": 5,
   "id": "0ab57cd8",
   "metadata": {
    "ExecuteTime": {
     "end_time": "2025-01-03T14:02:55.907937Z",
     "start_time": "2025-01-03T14:02:55.847382Z"
    }
   },
   "outputs": [
    {
     "name": "stdout",
     "output_type": "stream",
     "text": [
      "<class 'pandas.core.frame.DataFrame'>\n",
      "RangeIndex: 10000 entries, 0 to 9999\n",
      "Data columns (total 12 columns):\n",
      " #   Column                     Non-Null Count  Dtype  \n",
      "---  ------                     --------------  -----  \n",
      " 0   StudentID                  10000 non-null  int64  \n",
      " 1   CGPA                       10000 non-null  float64\n",
      " 2   Internships                10000 non-null  int64  \n",
      " 3   Projects                   10000 non-null  int64  \n",
      " 4   Workshops/Certifications   10000 non-null  int64  \n",
      " 5   AptitudeTestScore          10000 non-null  int64  \n",
      " 6   SoftSkillsRating           10000 non-null  float64\n",
      " 7   ExtracurricularActivities  10000 non-null  object \n",
      " 8   PlacementTraining          10000 non-null  object \n",
      " 9   SSC_Marks                  10000 non-null  int64  \n",
      " 10  HSC_Marks                  10000 non-null  int64  \n",
      " 11  PlacementStatus            10000 non-null  object \n",
      "dtypes: float64(2), int64(7), object(3)\n",
      "memory usage: 937.6+ KB\n"
     ]
    }
   ],
   "source": [
    "df.info()"
   ]
  },
  {
   "cell_type": "code",
   "execution_count": 6,
   "id": "9da0ebc3",
   "metadata": {
    "ExecuteTime": {
     "end_time": "2025-01-03T14:02:58.304053Z",
     "start_time": "2025-01-03T14:02:58.251479Z"
    }
   },
   "outputs": [
    {
     "data": {
      "text/html": [
       "<div>\n",
       "<style scoped>\n",
       "    .dataframe tbody tr th:only-of-type {\n",
       "        vertical-align: middle;\n",
       "    }\n",
       "\n",
       "    .dataframe tbody tr th {\n",
       "        vertical-align: top;\n",
       "    }\n",
       "\n",
       "    .dataframe thead th {\n",
       "        text-align: right;\n",
       "    }\n",
       "</style>\n",
       "<table border=\"1\" class=\"dataframe\">\n",
       "  <thead>\n",
       "    <tr style=\"text-align: right;\">\n",
       "      <th></th>\n",
       "      <th>CGPA</th>\n",
       "      <th>Internships</th>\n",
       "      <th>Projects</th>\n",
       "      <th>Workshops/Certifications</th>\n",
       "      <th>AptitudeTestScore</th>\n",
       "      <th>SoftSkillsRating</th>\n",
       "      <th>ExtracurricularActivities</th>\n",
       "      <th>PlacementTraining</th>\n",
       "      <th>SSC_Marks</th>\n",
       "      <th>HSC_Marks</th>\n",
       "      <th>PlacementStatus</th>\n",
       "    </tr>\n",
       "  </thead>\n",
       "  <tbody>\n",
       "    <tr>\n",
       "      <th>0</th>\n",
       "      <td>7.5</td>\n",
       "      <td>1</td>\n",
       "      <td>1</td>\n",
       "      <td>1</td>\n",
       "      <td>65</td>\n",
       "      <td>4.4</td>\n",
       "      <td>No</td>\n",
       "      <td>No</td>\n",
       "      <td>61</td>\n",
       "      <td>79</td>\n",
       "      <td>NotPlaced</td>\n",
       "    </tr>\n",
       "    <tr>\n",
       "      <th>1</th>\n",
       "      <td>8.9</td>\n",
       "      <td>0</td>\n",
       "      <td>3</td>\n",
       "      <td>2</td>\n",
       "      <td>90</td>\n",
       "      <td>4.0</td>\n",
       "      <td>Yes</td>\n",
       "      <td>Yes</td>\n",
       "      <td>78</td>\n",
       "      <td>82</td>\n",
       "      <td>Placed</td>\n",
       "    </tr>\n",
       "    <tr>\n",
       "      <th>2</th>\n",
       "      <td>7.3</td>\n",
       "      <td>1</td>\n",
       "      <td>2</td>\n",
       "      <td>2</td>\n",
       "      <td>82</td>\n",
       "      <td>4.8</td>\n",
       "      <td>Yes</td>\n",
       "      <td>No</td>\n",
       "      <td>79</td>\n",
       "      <td>80</td>\n",
       "      <td>NotPlaced</td>\n",
       "    </tr>\n",
       "    <tr>\n",
       "      <th>3</th>\n",
       "      <td>7.5</td>\n",
       "      <td>1</td>\n",
       "      <td>1</td>\n",
       "      <td>2</td>\n",
       "      <td>85</td>\n",
       "      <td>4.4</td>\n",
       "      <td>Yes</td>\n",
       "      <td>Yes</td>\n",
       "      <td>81</td>\n",
       "      <td>80</td>\n",
       "      <td>Placed</td>\n",
       "    </tr>\n",
       "    <tr>\n",
       "      <th>4</th>\n",
       "      <td>8.3</td>\n",
       "      <td>1</td>\n",
       "      <td>2</td>\n",
       "      <td>2</td>\n",
       "      <td>86</td>\n",
       "      <td>4.5</td>\n",
       "      <td>Yes</td>\n",
       "      <td>Yes</td>\n",
       "      <td>74</td>\n",
       "      <td>88</td>\n",
       "      <td>Placed</td>\n",
       "    </tr>\n",
       "    <tr>\n",
       "      <th>...</th>\n",
       "      <td>...</td>\n",
       "      <td>...</td>\n",
       "      <td>...</td>\n",
       "      <td>...</td>\n",
       "      <td>...</td>\n",
       "      <td>...</td>\n",
       "      <td>...</td>\n",
       "      <td>...</td>\n",
       "      <td>...</td>\n",
       "      <td>...</td>\n",
       "      <td>...</td>\n",
       "    </tr>\n",
       "    <tr>\n",
       "      <th>9995</th>\n",
       "      <td>7.5</td>\n",
       "      <td>1</td>\n",
       "      <td>1</td>\n",
       "      <td>2</td>\n",
       "      <td>72</td>\n",
       "      <td>3.9</td>\n",
       "      <td>Yes</td>\n",
       "      <td>No</td>\n",
       "      <td>85</td>\n",
       "      <td>66</td>\n",
       "      <td>NotPlaced</td>\n",
       "    </tr>\n",
       "    <tr>\n",
       "      <th>9996</th>\n",
       "      <td>7.4</td>\n",
       "      <td>0</td>\n",
       "      <td>1</td>\n",
       "      <td>0</td>\n",
       "      <td>90</td>\n",
       "      <td>4.8</td>\n",
       "      <td>No</td>\n",
       "      <td>No</td>\n",
       "      <td>84</td>\n",
       "      <td>67</td>\n",
       "      <td>Placed</td>\n",
       "    </tr>\n",
       "    <tr>\n",
       "      <th>9997</th>\n",
       "      <td>8.4</td>\n",
       "      <td>1</td>\n",
       "      <td>3</td>\n",
       "      <td>0</td>\n",
       "      <td>70</td>\n",
       "      <td>4.8</td>\n",
       "      <td>Yes</td>\n",
       "      <td>Yes</td>\n",
       "      <td>79</td>\n",
       "      <td>81</td>\n",
       "      <td>Placed</td>\n",
       "    </tr>\n",
       "    <tr>\n",
       "      <th>9998</th>\n",
       "      <td>8.9</td>\n",
       "      <td>0</td>\n",
       "      <td>3</td>\n",
       "      <td>2</td>\n",
       "      <td>87</td>\n",
       "      <td>4.8</td>\n",
       "      <td>Yes</td>\n",
       "      <td>Yes</td>\n",
       "      <td>71</td>\n",
       "      <td>85</td>\n",
       "      <td>Placed</td>\n",
       "    </tr>\n",
       "    <tr>\n",
       "      <th>9999</th>\n",
       "      <td>8.4</td>\n",
       "      <td>0</td>\n",
       "      <td>1</td>\n",
       "      <td>1</td>\n",
       "      <td>66</td>\n",
       "      <td>3.8</td>\n",
       "      <td>No</td>\n",
       "      <td>No</td>\n",
       "      <td>62</td>\n",
       "      <td>66</td>\n",
       "      <td>NotPlaced</td>\n",
       "    </tr>\n",
       "  </tbody>\n",
       "</table>\n",
       "<p>10000 rows × 11 columns</p>\n",
       "</div>"
      ],
      "text/plain": [
       "      CGPA  Internships  Projects  Workshops/Certifications  \\\n",
       "0      7.5            1         1                         1   \n",
       "1      8.9            0         3                         2   \n",
       "2      7.3            1         2                         2   \n",
       "3      7.5            1         1                         2   \n",
       "4      8.3            1         2                         2   \n",
       "...    ...          ...       ...                       ...   \n",
       "9995   7.5            1         1                         2   \n",
       "9996   7.4            0         1                         0   \n",
       "9997   8.4            1         3                         0   \n",
       "9998   8.9            0         3                         2   \n",
       "9999   8.4            0         1                         1   \n",
       "\n",
       "      AptitudeTestScore  SoftSkillsRating ExtracurricularActivities  \\\n",
       "0                    65               4.4                        No   \n",
       "1                    90               4.0                       Yes   \n",
       "2                    82               4.8                       Yes   \n",
       "3                    85               4.4                       Yes   \n",
       "4                    86               4.5                       Yes   \n",
       "...                 ...               ...                       ...   \n",
       "9995                 72               3.9                       Yes   \n",
       "9996                 90               4.8                        No   \n",
       "9997                 70               4.8                       Yes   \n",
       "9998                 87               4.8                       Yes   \n",
       "9999                 66               3.8                        No   \n",
       "\n",
       "     PlacementTraining  SSC_Marks  HSC_Marks PlacementStatus  \n",
       "0                   No         61         79       NotPlaced  \n",
       "1                  Yes         78         82          Placed  \n",
       "2                   No         79         80       NotPlaced  \n",
       "3                  Yes         81         80          Placed  \n",
       "4                  Yes         74         88          Placed  \n",
       "...                ...        ...        ...             ...  \n",
       "9995                No         85         66       NotPlaced  \n",
       "9996                No         84         67          Placed  \n",
       "9997               Yes         79         81          Placed  \n",
       "9998               Yes         71         85          Placed  \n",
       "9999                No         62         66       NotPlaced  \n",
       "\n",
       "[10000 rows x 11 columns]"
      ]
     },
     "execution_count": 6,
     "metadata": {},
     "output_type": "execute_result"
    }
   ],
   "source": [
    "#removing un-necessary column\n",
    "df=df.drop(columns='StudentID')\n",
    "df"
   ]
  },
  {
   "cell_type": "code",
   "execution_count": 7,
   "id": "bc017c19",
   "metadata": {
    "ExecuteTime": {
     "end_time": "2025-01-03T14:02:59.231381Z",
     "start_time": "2025-01-03T14:02:58.905581Z"
    }
   },
   "outputs": [
    {
     "data": {
      "text/plain": [
       "Text(0.5, 1.0, 'Placement Distribution')"
      ]
     },
     "execution_count": 7,
     "metadata": {},
     "output_type": "execute_result"
    },
    {
     "data": {
      "image/png": "[encoded data removed]",
      "text/plain": [
       "<Figure size 432x288 with 1 Axes>"
      ]
     },
     "metadata": {},
     "output_type": "display_data"
    }
   ],
   "source": [
    "df.groupby('PlacementStatus').size().plot(kind='pie')\n",
    "plt.title('Placement Distribution')"
   ]
  },
  {
   "cell_type": "code",
   "execution_count": 8,
   "id": "d4392b67",
   "metadata": {
    "ExecuteTime": {
     "end_time": "2025-01-03T14:02:59.605868Z",
     "start_time": "2025-01-03T14:02:59.541631Z"
    }
   },
   "outputs": [
    {
     "data": {
      "text/html": [
       "<div>\n",
       "<style scoped>\n",
       "    .dataframe tbody tr th:only-of-type {\n",
       "        vertical-align: middle;\n",
       "    }\n",
       "\n",
       "    .dataframe tbody tr th {\n",
       "        vertical-align: top;\n",
       "    }\n",
       "\n",
       "    .dataframe thead th {\n",
       "        text-align: right;\n",
       "    }\n",
       "</style>\n",
       "<table border=\"1\" class=\"dataframe\">\n",
       "  <thead>\n",
       "    <tr style=\"text-align: right;\">\n",
       "      <th></th>\n",
       "      <th>CGPA</th>\n",
       "      <th>Internships</th>\n",
       "      <th>Projects</th>\n",
       "      <th>Workshops/Certifications</th>\n",
       "      <th>AptitudeTestScore</th>\n",
       "      <th>SoftSkillsRating</th>\n",
       "      <th>ExtracurricularActivities</th>\n",
       "      <th>PlacementTraining</th>\n",
       "      <th>SSC_Marks</th>\n",
       "      <th>HSC_Marks</th>\n",
       "      <th>PlacementStatus</th>\n",
       "    </tr>\n",
       "  </thead>\n",
       "  <tbody>\n",
       "    <tr>\n",
       "      <th>0</th>\n",
       "      <td>7.5</td>\n",
       "      <td>1</td>\n",
       "      <td>1</td>\n",
       "      <td>1</td>\n",
       "      <td>65</td>\n",
       "      <td>4.4</td>\n",
       "      <td>0</td>\n",
       "      <td>0</td>\n",
       "      <td>61</td>\n",
       "      <td>79</td>\n",
       "      <td>0</td>\n",
       "    </tr>\n",
       "    <tr>\n",
       "      <th>1</th>\n",
       "      <td>8.9</td>\n",
       "      <td>0</td>\n",
       "      <td>3</td>\n",
       "      <td>2</td>\n",
       "      <td>90</td>\n",
       "      <td>4.0</td>\n",
       "      <td>1</td>\n",
       "      <td>1</td>\n",
       "      <td>78</td>\n",
       "      <td>82</td>\n",
       "      <td>1</td>\n",
       "    </tr>\n",
       "    <tr>\n",
       "      <th>2</th>\n",
       "      <td>7.3</td>\n",
       "      <td>1</td>\n",
       "      <td>2</td>\n",
       "      <td>2</td>\n",
       "      <td>82</td>\n",
       "      <td>4.8</td>\n",
       "      <td>1</td>\n",
       "      <td>0</td>\n",
       "      <td>79</td>\n",
       "      <td>80</td>\n",
       "      <td>0</td>\n",
       "    </tr>\n",
       "    <tr>\n",
       "      <th>3</th>\n",
       "      <td>7.5</td>\n",
       "      <td>1</td>\n",
       "      <td>1</td>\n",
       "      <td>2</td>\n",
       "      <td>85</td>\n",
       "      <td>4.4</td>\n",
       "      <td>1</td>\n",
       "      <td>1</td>\n",
       "      <td>81</td>\n",
       "      <td>80</td>\n",
       "      <td>1</td>\n",
       "    </tr>\n",
       "    <tr>\n",
       "      <th>4</th>\n",
       "      <td>8.3</td>\n",
       "      <td>1</td>\n",
       "      <td>2</td>\n",
       "      <td>2</td>\n",
       "      <td>86</td>\n",
       "      <td>4.5</td>\n",
       "      <td>1</td>\n",
       "      <td>1</td>\n",
       "      <td>74</td>\n",
       "      <td>88</td>\n",
       "      <td>1</td>\n",
       "    </tr>\n",
       "    <tr>\n",
       "      <th>...</th>\n",
       "      <td>...</td>\n",
       "      <td>...</td>\n",
       "      <td>...</td>\n",
       "      <td>...</td>\n",
       "      <td>...</td>\n",
       "      <td>...</td>\n",
       "      <td>...</td>\n",
       "      <td>...</td>\n",
       "      <td>...</td>\n",
       "      <td>...</td>\n",
       "      <td>...</td>\n",
       "    </tr>\n",
       "    <tr>\n",
       "      <th>9995</th>\n",
       "      <td>7.5</td>\n",
       "      <td>1</td>\n",
       "      <td>1</td>\n",
       "      <td>2</td>\n",
       "      <td>72</td>\n",
       "      <td>3.9</td>\n",
       "      <td>1</td>\n",
       "      <td>0</td>\n",
       "      <td>85</td>\n",
       "      <td>66</td>\n",
       "      <td>0</td>\n",
       "    </tr>\n",
       "    <tr>\n",
       "      <th>9996</th>\n",
       "      <td>7.4</td>\n",
       "      <td>0</td>\n",
       "      <td>1</td>\n",
       "      <td>0</td>\n",
       "      <td>90</td>\n",
       "      <td>4.8</td>\n",
       "      <td>0</td>\n",
       "      <td>0</td>\n",
       "      <td>84</td>\n",
       "      <td>67</td>\n",
       "      <td>1</td>\n",
       "    </tr>\n",
       "    <tr>\n",
       "      <th>9997</th>\n",
       "      <td>8.4</td>\n",
       "      <td>1</td>\n",
       "      <td>3</td>\n",
       "      <td>0</td>\n",
       "      <td>70</td>\n",
       "      <td>4.8</td>\n",
       "      <td>1</td>\n",
       "      <td>1</td>\n",
       "      <td>79</td>\n",
       "      <td>81</td>\n",
       "      <td>1</td>\n",
       "    </tr>\n",
       "    <tr>\n",
       "      <th>9998</th>\n",
       "      <td>8.9</td>\n",
       "      <td>0</td>\n",
       "      <td>3</td>\n",
       "      <td>2</td>\n",
       "      <td>87</td>\n",
       "      <td>4.8</td>\n",
       "      <td>1</td>\n",
       "      <td>1</td>\n",
       "      <td>71</td>\n",
       "      <td>85</td>\n",
       "      <td>1</td>\n",
       "    </tr>\n",
       "    <tr>\n",
       "      <th>9999</th>\n",
       "      <td>8.4</td>\n",
       "      <td>0</td>\n",
       "      <td>1</td>\n",
       "      <td>1</td>\n",
       "      <td>66</td>\n",
       "      <td>3.8</td>\n",
       "      <td>0</td>\n",
       "      <td>0</td>\n",
       "      <td>62</td>\n",
       "      <td>66</td>\n",
       "      <td>0</td>\n",
       "    </tr>\n",
       "  </tbody>\n",
       "</table>\n",
       "<p>10000 rows × 11 columns</p>\n",
       "</div>"
      ],
      "text/plain": [
       "      CGPA  Internships  Projects  Workshops/Certifications  \\\n",
       "0      7.5            1         1                         1   \n",
       "1      8.9            0         3                         2   \n",
       "2      7.3            1         2                         2   \n",
       "3      7.5            1         1                         2   \n",
       "4      8.3            1         2                         2   \n",
       "...    ...          ...       ...                       ...   \n",
       "9995   7.5            1         1                         2   \n",
       "9996   7.4            0         1                         0   \n",
       "9997   8.4            1         3                         0   \n",
       "9998   8.9            0         3                         2   \n",
       "9999   8.4            0         1                         1   \n",
       "\n",
       "      AptitudeTestScore  SoftSkillsRating  ExtracurricularActivities  \\\n",
       "0                    65               4.4                          0   \n",
       "1                    90               4.0                          1   \n",
       "2                    82               4.8                          1   \n",
       "3                    85               4.4                          1   \n",
       "4                    86               4.5                          1   \n",
       "...                 ...               ...                        ...   \n",
       "9995                 72               3.9                          1   \n",
       "9996                 90               4.8                          0   \n",
       "9997                 70               4.8                          1   \n",
       "9998                 87               4.8                          1   \n",
       "9999                 66               3.8                          0   \n",
       "\n",
       "      PlacementTraining  SSC_Marks  HSC_Marks  PlacementStatus  \n",
       "0                     0         61         79                0  \n",
       "1                     1         78         82                1  \n",
       "2                     0         79         80                0  \n",
       "3                     1         81         80                1  \n",
       "4                     1         74         88                1  \n",
       "...                 ...        ...        ...              ...  \n",
       "9995                  0         85         66                0  \n",
       "9996                  0         84         67                1  \n",
       "9997                  1         79         81                1  \n",
       "9998                  1         71         85                1  \n",
       "9999                  0         62         66                0  \n",
       "\n",
       "[10000 rows x 11 columns]"
      ]
     },
     "execution_count": 8,
     "metadata": {},
     "output_type": "execute_result"
    }
   ],
   "source": [
    "#replacing yes/no with boolean value 0/1\n",
    "from sklearn.preprocessing import LabelEncoder\n",
    "labelencoder=LabelEncoder()\n",
    "object_cols = df.select_dtypes(include=['object']).columns\n",
    "for column in object_cols:\n",
    "    df[column]=labelencoder.fit_transform(df[column])\n",
    "df"
   ]
  },
  {
   "cell_type": "code",
   "execution_count": 9,
   "id": "357a9442",
   "metadata": {
    "ExecuteTime": {
     "end_time": "2025-01-03T14:03:00.068171Z",
     "start_time": "2025-01-03T14:03:00.040778Z"
    }
   },
   "outputs": [
    {
     "data": {
      "text/plain": [
       "CGPA                         0\n",
       "Internships                  0\n",
       "Projects                     0\n",
       "Workshops/Certifications     0\n",
       "AptitudeTestScore            0\n",
       "SoftSkillsRating             0\n",
       "ExtracurricularActivities    0\n",
       "PlacementTraining            0\n",
       "SSC_Marks                    0\n",
       "HSC_Marks                    0\n",
       "PlacementStatus              0\n",
       "dtype: int64"
      ]
     },
     "execution_count": 9,
     "metadata": {},
     "output_type": "execute_result"
    }
   ],
   "source": [
    "df.isnull().sum() # for checking nulls"
   ]
  },
  {
   "cell_type": "code",
   "execution_count": 10,
   "id": "bfcd9c2f",
   "metadata": {
    "ExecuteTime": {
     "end_time": "2025-01-03T14:03:00.540045Z",
     "start_time": "2025-01-03T14:03:00.447142Z"
    }
   },
   "outputs": [
    {
     "data": {
      "text/html": [
       "<div>\n",
       "<style scoped>\n",
       "    .dataframe tbody tr th:only-of-type {\n",
       "        vertical-align: middle;\n",
       "    }\n",
       "\n",
       "    .dataframe tbody tr th {\n",
       "        vertical-align: top;\n",
       "    }\n",
       "\n",
       "    .dataframe thead th {\n",
       "        text-align: right;\n",
       "    }\n",
       "</style>\n",
       "<table border=\"1\" class=\"dataframe\">\n",
       "  <thead>\n",
       "    <tr style=\"text-align: right;\">\n",
       "      <th></th>\n",
       "      <th>CGPA</th>\n",
       "      <th>Internships</th>\n",
       "      <th>Projects</th>\n",
       "      <th>Workshops/Certifications</th>\n",
       "      <th>AptitudeTestScore</th>\n",
       "      <th>SoftSkillsRating</th>\n",
       "      <th>ExtracurricularActivities</th>\n",
       "      <th>PlacementTraining</th>\n",
       "      <th>SSC_Marks</th>\n",
       "      <th>HSC_Marks</th>\n",
       "      <th>PlacementStatus</th>\n",
       "    </tr>\n",
       "  </thead>\n",
       "  <tbody>\n",
       "    <tr>\n",
       "      <th>count</th>\n",
       "      <td>10000.000000</td>\n",
       "      <td>10000.000000</td>\n",
       "      <td>10000.000000</td>\n",
       "      <td>10000.000000</td>\n",
       "      <td>10000.000000</td>\n",
       "      <td>10000.000000</td>\n",
       "      <td>10000.000000</td>\n",
       "      <td>10000.000000</td>\n",
       "      <td>10000.000000</td>\n",
       "      <td>10000.000000</td>\n",
       "      <td>10000.000000</td>\n",
       "    </tr>\n",
       "    <tr>\n",
       "      <th>mean</th>\n",
       "      <td>7.698010</td>\n",
       "      <td>1.049200</td>\n",
       "      <td>2.026600</td>\n",
       "      <td>1.013200</td>\n",
       "      <td>79.449900</td>\n",
       "      <td>4.323960</td>\n",
       "      <td>0.585400</td>\n",
       "      <td>0.731800</td>\n",
       "      <td>69.159400</td>\n",
       "      <td>74.501500</td>\n",
       "      <td>0.419700</td>\n",
       "    </tr>\n",
       "    <tr>\n",
       "      <th>std</th>\n",
       "      <td>0.640131</td>\n",
       "      <td>0.665901</td>\n",
       "      <td>0.867968</td>\n",
       "      <td>0.904272</td>\n",
       "      <td>8.159997</td>\n",
       "      <td>0.411622</td>\n",
       "      <td>0.492677</td>\n",
       "      <td>0.443044</td>\n",
       "      <td>10.430459</td>\n",
       "      <td>8.919527</td>\n",
       "      <td>0.493534</td>\n",
       "    </tr>\n",
       "    <tr>\n",
       "      <th>min</th>\n",
       "      <td>6.500000</td>\n",
       "      <td>0.000000</td>\n",
       "      <td>0.000000</td>\n",
       "      <td>0.000000</td>\n",
       "      <td>60.000000</td>\n",
       "      <td>3.000000</td>\n",
       "      <td>0.000000</td>\n",
       "      <td>0.000000</td>\n",
       "      <td>55.000000</td>\n",
       "      <td>57.000000</td>\n",
       "      <td>0.000000</td>\n",
       "    </tr>\n",
       "    <tr>\n",
       "      <th>25%</th>\n",
       "      <td>7.400000</td>\n",
       "      <td>1.000000</td>\n",
       "      <td>1.000000</td>\n",
       "      <td>0.000000</td>\n",
       "      <td>73.000000</td>\n",
       "      <td>4.000000</td>\n",
       "      <td>0.000000</td>\n",
       "      <td>0.000000</td>\n",
       "      <td>59.000000</td>\n",
       "      <td>67.000000</td>\n",
       "      <td>0.000000</td>\n",
       "    </tr>\n",
       "    <tr>\n",
       "      <th>50%</th>\n",
       "      <td>7.700000</td>\n",
       "      <td>1.000000</td>\n",
       "      <td>2.000000</td>\n",
       "      <td>1.000000</td>\n",
       "      <td>80.000000</td>\n",
       "      <td>4.400000</td>\n",
       "      <td>1.000000</td>\n",
       "      <td>1.000000</td>\n",
       "      <td>70.000000</td>\n",
       "      <td>73.000000</td>\n",
       "      <td>0.000000</td>\n",
       "    </tr>\n",
       "    <tr>\n",
       "      <th>75%</th>\n",
       "      <td>8.200000</td>\n",
       "      <td>1.000000</td>\n",
       "      <td>3.000000</td>\n",
       "      <td>2.000000</td>\n",
       "      <td>87.000000</td>\n",
       "      <td>4.700000</td>\n",
       "      <td>1.000000</td>\n",
       "      <td>1.000000</td>\n",
       "      <td>78.000000</td>\n",
       "      <td>83.000000</td>\n",
       "      <td>1.000000</td>\n",
       "    </tr>\n",
       "    <tr>\n",
       "      <th>max</th>\n",
       "      <td>9.100000</td>\n",
       "      <td>2.000000</td>\n",
       "      <td>3.000000</td>\n",
       "      <td>3.000000</td>\n",
       "      <td>90.000000</td>\n",
       "      <td>4.800000</td>\n",
       "      <td>1.000000</td>\n",
       "      <td>1.000000</td>\n",
       "      <td>90.000000</td>\n",
       "      <td>88.000000</td>\n",
       "      <td>1.000000</td>\n",
       "    </tr>\n",
       "  </tbody>\n",
       "</table>\n",
       "</div>"
      ],
      "text/plain": [
       "               CGPA   Internships      Projects  Workshops/Certifications  \\\n",
       "count  10000.000000  10000.000000  10000.000000              10000.000000   \n",
       "mean       7.698010      1.049200      2.026600                  1.013200   \n",
       "std        0.640131      0.665901      0.867968                  0.904272   \n",
       "min        6.500000      0.000000      0.000000                  0.000000   \n",
       "25%        7.400000      1.000000      1.000000                  0.000000   \n",
       "50%        7.700000      1.000000      2.000000                  1.000000   \n",
       "75%        8.200000      1.000000      3.000000                  2.000000   \n",
       "max        9.100000      2.000000      3.000000                  3.000000   \n",
       "\n",
       "       AptitudeTestScore  SoftSkillsRating  ExtracurricularActivities  \\\n",
       "count       10000.000000      10000.000000               10000.000000   \n",
       "mean           79.449900          4.323960                   0.585400   \n",
       "std             8.159997          0.411622                   0.492677   \n",
       "min            60.000000          3.000000                   0.000000   \n",
       "25%            73.000000          4.000000                   0.000000   \n",
       "50%            80.000000          4.400000                   1.000000   \n",
       "75%            87.000000          4.700000                   1.000000   \n",
       "max            90.000000          4.800000                   1.000000   \n",
       "\n",
       "       PlacementTraining     SSC_Marks     HSC_Marks  PlacementStatus  \n",
       "count       10000.000000  10000.000000  10000.000000     10000.000000  \n",
       "mean            0.731800     69.159400     74.501500         0.419700  \n",
       "std             0.443044     10.430459      8.919527         0.493534  \n",
       "min             0.000000     55.000000     57.000000         0.000000  \n",
       "25%             0.000000     59.000000     67.000000         0.000000  \n",
       "50%             1.000000     70.000000     73.000000         0.000000  \n",
       "75%             1.000000     78.000000     83.000000         1.000000  \n",
       "max             1.000000     90.000000     88.000000         1.000000  "
      ]
     },
     "execution_count": 10,
     "metadata": {},
     "output_type": "execute_result"
    }
   ],
   "source": [
    "df.describe()"
   ]
  },
  {
   "cell_type": "code",
   "execution_count": 11,
   "id": "c23616b6",
   "metadata": {
    "ExecuteTime": {
     "end_time": "2025-01-03T14:03:00.807097Z",
     "start_time": "2025-01-03T14:03:00.741782Z"
    }
   },
   "outputs": [
    {
     "data": {
      "text/html": [
       "<div>\n",
       "<style scoped>\n",
       "    .dataframe tbody tr th:only-of-type {\n",
       "        vertical-align: middle;\n",
       "    }\n",
       "\n",
       "    .dataframe tbody tr th {\n",
       "        vertical-align: top;\n",
       "    }\n",
       "\n",
       "    .dataframe thead th {\n",
       "        text-align: right;\n",
       "    }\n",
       "</style>\n",
       "<table border=\"1\" class=\"dataframe\">\n",
       "  <thead>\n",
       "    <tr style=\"text-align: right;\">\n",
       "      <th>Internships</th>\n",
       "      <th>0</th>\n",
       "      <th>1</th>\n",
       "      <th>2</th>\n",
       "    </tr>\n",
       "    <tr>\n",
       "      <th>PlacementStatus</th>\n",
       "      <th></th>\n",
       "      <th></th>\n",
       "      <th></th>\n",
       "    </tr>\n",
       "  </thead>\n",
       "  <tbody>\n",
       "    <tr>\n",
       "      <th>0</th>\n",
       "      <td>1320</td>\n",
       "      <td>3733</td>\n",
       "      <td>750</td>\n",
       "    </tr>\n",
       "    <tr>\n",
       "      <th>1</th>\n",
       "      <td>663</td>\n",
       "      <td>1809</td>\n",
       "      <td>1725</td>\n",
       "    </tr>\n",
       "  </tbody>\n",
       "</table>\n",
       "</div>"
      ],
      "text/plain": [
       "Internships         0     1     2\n",
       "PlacementStatus                  \n",
       "0                1320  3733   750\n",
       "1                 663  1809  1725"
      ]
     },
     "execution_count": 11,
     "metadata": {},
     "output_type": "execute_result"
    }
   ],
   "source": [
    "# Visualizating effect of internships on placement\n",
    "Internships_effect = df.pivot_table(index = 'PlacementStatus',values=\"CGPA\", columns='Internships', aggfunc='count')\n",
    "Internships_effect"
   ]
  },
  {
   "cell_type": "code",
   "execution_count": 12,
   "id": "afd56888",
   "metadata": {
    "ExecuteTime": {
     "end_time": "2025-01-03T14:03:01.249030Z",
     "start_time": "2025-01-03T14:03:00.975712Z"
    }
   },
   "outputs": [
    {
     "data": {
      "image/png": "[encoded data removed]",
      "text/plain": [
       "<Figure size 432x288 with 1 Axes>"
      ]
     },
     "metadata": {
      "needs_background": "light"
     },
     "output_type": "display_data"
    }
   ],
   "source": [
    "X = Internships_effect.columns\n",
    "X_axis = np.arange(len(X))\n",
    "\n",
    "plt.bar(X_axis - 0.2, Internships_effect.iloc[0,:], 0.4, label = 'NotPlaced')\n",
    "plt.bar(X_axis + 0.2, Internships_effect.iloc[1,:], 0.4, label = 'Placed')\n",
    "\n",
    "plt.xticks(X_axis, X)\n",
    "plt.xlabel(\"Number of internships\")\n",
    "plt.ylabel(\"Number of placements\")\n",
    "plt.title(\"internships effect\")\n",
    "plt.legend()\n",
    "plt.show()"
   ]
  },
  {
   "cell_type": "code",
   "execution_count": 13,
   "id": "61fb58f0",
   "metadata": {
    "ExecuteTime": {
     "end_time": "2025-01-03T14:03:01.288926Z",
     "start_time": "2025-01-03T14:03:01.249030Z"
    }
   },
   "outputs": [
    {
     "data": {
      "text/html": [
       "<div>\n",
       "<style scoped>\n",
       "    .dataframe tbody tr th:only-of-type {\n",
       "        vertical-align: middle;\n",
       "    }\n",
       "\n",
       "    .dataframe tbody tr th {\n",
       "        vertical-align: top;\n",
       "    }\n",
       "\n",
       "    .dataframe thead th {\n",
       "        text-align: right;\n",
       "    }\n",
       "</style>\n",
       "<table border=\"1\" class=\"dataframe\">\n",
       "  <thead>\n",
       "    <tr style=\"text-align: right;\">\n",
       "      <th></th>\n",
       "      <th>CGPA</th>\n",
       "      <th>SoftSkillsRating</th>\n",
       "    </tr>\n",
       "    <tr>\n",
       "      <th>PlacementStatus</th>\n",
       "      <th></th>\n",
       "      <th></th>\n",
       "    </tr>\n",
       "  </thead>\n",
       "  <tbody>\n",
       "    <tr>\n",
       "      <th>0</th>\n",
       "      <td>7.467672</td>\n",
       "      <td>4.174393</td>\n",
       "    </tr>\n",
       "    <tr>\n",
       "      <th>1</th>\n",
       "      <td>8.016488</td>\n",
       "      <td>4.530760</td>\n",
       "    </tr>\n",
       "  </tbody>\n",
       "</table>\n",
       "</div>"
      ],
      "text/plain": [
       "                     CGPA  SoftSkillsRating\n",
       "PlacementStatus                            \n",
       "0                7.467672          4.174393\n",
       "1                8.016488          4.530760"
      ]
     },
     "execution_count": 13,
     "metadata": {},
     "output_type": "execute_result"
    }
   ],
   "source": [
    "# Effect of CGPA and softskills\n",
    "CGPA_effect = df.pivot_table(index = 'PlacementStatus', values= ['CGPA', 'SoftSkillsRating'])\n",
    "CGPA_effect\n",
    "# Shows that higher cgpa and softskillsscore are more probable to land student a placement"
   ]
  },
  {
   "cell_type": "code",
   "execution_count": 14,
   "id": "bf32698f",
   "metadata": {
    "ExecuteTime": {
     "end_time": "2025-01-03T14:03:02.797722Z",
     "start_time": "2025-01-03T14:03:01.358914Z"
    }
   },
   "outputs": [
    {
     "data": {
      "text/plain": [
       "<AxesSubplot:>"
      ]
     },
     "execution_count": 14,
     "metadata": {},
     "output_type": "execute_result"
    },
    {
     "data": {
      "image/png": "[encoded data removed]",
      "text/plain": [
       "<Figure size 1080x360 with 2 Axes>"
      ]
     },
     "metadata": {
      "needs_background": "light"
     },
     "output_type": "display_data"
    }
   ],
   "source": [
    "plt.figure(figsize=(15,5))\n",
    "sns.heatmap(df.corr(), annot=True)"
   ]
  },
  {
   "cell_type": "code",
   "execution_count": 15,
   "id": "6756ff95",
   "metadata": {
    "ExecuteTime": {
     "end_time": "2025-01-03T14:03:03.677751Z",
     "start_time": "2025-01-03T14:03:02.801561Z"
    }
   },
   "outputs": [
    {
     "data": {
      "text/plain": [
       "<matplotlib.legend.Legend at 0x20e8b750490>"
      ]
     },
     "execution_count": 15,
     "metadata": {},
     "output_type": "execute_result"
    },
    {
     "data": {
      "image/png": "[encoded data removed]",
      "text/plain": [
       "<Figure size 432x288 with 1 Axes>"
      ]
     },
     "metadata": {},
     "output_type": "display_data"
    }
   ],
   "source": [
    "sns.set(style='whitegrid')\n",
    "sns.histplot(data=df, x='CGPA', hue='PlacementStatus', multiple='stack')\n",
    "plt.legend(title='Placement Status', labels=['Placed', 'Not Placed'])"
   ]
  },
  {
   "cell_type": "code",
   "execution_count": 16,
   "id": "d2929460",
   "metadata": {
    "ExecuteTime": {
     "end_time": "2025-01-03T14:03:04.280132Z",
     "start_time": "2025-01-03T14:03:03.679665Z"
    }
   },
   "outputs": [
    {
     "data": {
      "text/plain": [
       "Text(0.5, 1.0, 'CGPA Analysis')"
      ]
     },
     "execution_count": 16,
     "metadata": {},
     "output_type": "execute_result"
    },
    {
     "data": {
      "image/png": "[encoded data removed]",
      "text/plain": [
       "<Figure size 432x288 with 1 Axes>"
      ]
     },
     "metadata": {},
     "output_type": "display_data"
    }
   ],
   "source": [
    "sns.countplot(data=df,x='CGPA')\n",
    "plt.xticks(rotation=90)\n",
    "plt.title('CGPA Analysis')"
   ]
  },
  {
   "cell_type": "code",
   "execution_count": 17,
   "id": "bf552418",
   "metadata": {
    "ExecuteTime": {
     "end_time": "2025-01-03T14:03:04.846845Z",
     "start_time": "2025-01-03T14:03:04.284792Z"
    }
   },
   "outputs": [
    {
     "data": {
      "text/plain": [
       "Text(0.5, 1.0, 'CGPA wise Placement')"
      ]
     },
     "execution_count": 17,
     "metadata": {},
     "output_type": "execute_result"
    },
    {
     "data": {
      "image/png": "[encoded data removed]",
      "text/plain": [
       "<Figure size 432x288 with 1 Axes>"
      ]
     },
     "metadata": {},
     "output_type": "display_data"
    }
   ],
   "source": [
    "sns.countplot(data=df.loc[(df.PlacementStatus==1)],x='CGPA')\n",
    "plt.xticks(rotation=90)\n",
    "plt.title('CGPA wise Placement')"
   ]
  },
  {
   "cell_type": "code",
   "execution_count": 18,
   "id": "38c829d9",
   "metadata": {
    "ExecuteTime": {
     "end_time": "2025-01-03T14:03:05.399597Z",
     "start_time": "2025-01-03T14:03:04.852005Z"
    }
   },
   "outputs": [
    {
     "data": {
      "text/plain": [
       "Text(0.5, 1.0, 'High School Marks')"
      ]
     },
     "execution_count": 18,
     "metadata": {},
     "output_type": "execute_result"
    },
    {
     "data": {
      "image/png": "[encoded data removed]",
      "text/plain": [
       "<Figure size 360x360 with 1 Axes>"
      ]
     },
     "metadata": {},
     "output_type": "display_data"
    }
   ],
   "source": [
    "sns.displot(df['HSC_Marks'])\n",
    "plt.title('High School Marks')"
   ]
  },
  {
   "cell_type": "code",
   "execution_count": 19,
   "id": "5ad1d050",
   "metadata": {
    "ExecuteTime": {
     "end_time": "2025-01-03T14:03:06.054164Z",
     "start_time": "2025-01-03T14:03:05.403494Z"
    }
   },
   "outputs": [
    {
     "data": {
      "text/plain": [
       "Text(0.5, 1.0, 'High School Marks wise Placement')"
      ]
     },
     "execution_count": 19,
     "metadata": {},
     "output_type": "execute_result"
    },
    {
     "data": {
      "image/png": "[encoded data removed]",
      "text/plain": [
       "<Figure size 432x288 with 1 Axes>"
      ]
     },
     "metadata": {},
     "output_type": "display_data"
    }
   ],
   "source": [
    "sns.countplot(data=df.loc[(df.PlacementStatus==1)],x='HSC_Marks')\n",
    "plt.xticks(rotation=90)\n",
    "plt.title('High School Marks wise Placement')"
   ]
  },
  {
   "cell_type": "code",
   "execution_count": 20,
   "id": "1ba225de",
   "metadata": {
    "ExecuteTime": {
     "end_time": "2025-01-03T14:03:06.288294Z",
     "start_time": "2025-01-03T14:03:06.054164Z"
    }
   },
   "outputs": [
    {
     "data": {
      "text/plain": [
       "Text(0.5, 1.0, 'ExtracurricularActivities wise Placement')"
      ]
     },
     "execution_count": 20,
     "metadata": {},
     "output_type": "execute_result"
    },
    {
     "data": {
      "image/png": "[encoded data removed]",
      "text/plain": [
       "<Figure size 432x288 with 1 Axes>"
      ]
     },
     "metadata": {},
     "output_type": "display_data"
    }
   ],
   "source": [
    "sns.countplot(data=df.loc[(df.PlacementStatus==1)],x='ExtracurricularActivities')\n",
    "plt.xticks(rotation=90)\n",
    "plt.title('ExtracurricularActivities wise Placement')"
   ]
  },
  {
   "cell_type": "code",
   "execution_count": 21,
   "id": "4230056c",
   "metadata": {
    "ExecuteTime": {
     "end_time": "2025-01-03T14:03:06.751275Z",
     "start_time": "2025-01-03T14:03:06.292012Z"
    }
   },
   "outputs": [
    {
     "data": {
      "text/plain": [
       "Text(0.5, 1.0, 'Softskills wise Placement')"
      ]
     },
     "execution_count": 21,
     "metadata": {},
     "output_type": "execute_result"
    },
    {
     "data": {
      "image/png": "[encoded data removed]",
      "text/plain": [
       "<Figure size 432x288 with 1 Axes>"
      ]
     },
     "metadata": {},
     "output_type": "display_data"
    }
   ],
   "source": [
    "sns.countplot(data=df.loc[(df.PlacementStatus==1)],x='SoftSkillsRating')\n",
    "plt.xticks(rotation=90)\n",
    "plt.title('Softskills wise Placement')"
   ]
  },
  {
   "cell_type": "code",
   "execution_count": 22,
   "id": "f667a2e9",
   "metadata": {
    "ExecuteTime": {
     "end_time": "2025-01-03T14:03:06.988280Z",
     "start_time": "2025-01-03T14:03:06.755116Z"
    }
   },
   "outputs": [
    {
     "data": {
      "text/plain": [
       "Text(0.5, 1.0, 'Projects wise Placement')"
      ]
     },
     "execution_count": 22,
     "metadata": {},
     "output_type": "execute_result"
    },
    {
     "data": {
      "image/png": "[encoded data removed]",
      "text/plain": [
       "<Figure size 432x288 with 1 Axes>"
      ]
     },
     "metadata": {},
     "output_type": "display_data"
    }
   ],
   "source": [
    "sns.countplot(data=df.loc[(df.PlacementStatus==1)],x='Projects')\n",
    "plt.xticks(rotation=90)\n",
    "plt.title('Projects wise Placement')"
   ]
  },
  {
   "cell_type": "code",
   "execution_count": 23,
   "id": "13fb0079",
   "metadata": {
    "ExecuteTime": {
     "end_time": "2025-01-03T14:03:07.622343Z",
     "start_time": "2025-01-03T14:03:06.990817Z"
    }
   },
   "outputs": [
    {
     "data": {
      "text/plain": [
       "Text(0.5, 1.0, 'AptitudeTestScore wise Placement')"
      ]
     },
     "execution_count": 23,
     "metadata": {},
     "output_type": "execute_result"
    },
    {
     "data": {
      "image/png": "[encoded data removed]",
      "text/plain": [
       "<Figure size 432x288 with 1 Axes>"
      ]
     },
     "metadata": {},
     "output_type": "display_data"
    }
   ],
   "source": [
    "sns.countplot(data=df.loc[(df.PlacementStatus==1)],x='AptitudeTestScore')\n",
    "plt.xticks(rotation=90)\n",
    "plt.title('AptitudeTestScore wise Placement')"
   ]
  },
  {
   "cell_type": "code",
   "execution_count": 24,
   "id": "61b1a6d0",
   "metadata": {
    "ExecuteTime": {
     "end_time": "2025-01-03T14:03:07.640658Z",
     "start_time": "2025-01-03T14:03:07.630636Z"
    }
   },
   "outputs": [],
   "source": [
    "X=df.drop(columns='PlacementStatus')   #all columns except placement status\n",
    "y=df.PlacementStatus          #placement status"
   ]
  },
  {
   "cell_type": "code",
   "execution_count": 25,
   "id": "1d1c97a7",
   "metadata": {
    "ExecuteTime": {
     "end_time": "2025-01-03T14:03:07.671059Z",
     "start_time": "2025-01-03T14:03:07.644380Z"
    }
   },
   "outputs": [],
   "source": [
    "X_train, X_test, y_train, y_test = train_test_split(X, y, test_size=0.20, random_state=1)"
   ]
  },
  {
   "cell_type": "markdown",
   "id": "34a23834",
   "metadata": {},
   "source": [
    "# XGBoost model"
   ]
  },
  {
   "cell_type": "code",
   "execution_count": 26,
   "id": "58419cbb",
   "metadata": {
    "ExecuteTime": {
     "end_time": "2025-01-03T14:03:10.550504Z",
     "start_time": "2025-01-03T14:03:07.671059Z"
    }
   },
   "outputs": [
    {
     "name": "stdout",
     "output_type": "stream",
     "text": [
      "XGBoost Accuracy: 0.795\n"
     ]
    },
    {
     "data": {
      "text/plain": [
       "Text(0.5, 1.0, 'XGBoost Model')"
      ]
     },
     "execution_count": 26,
     "metadata": {},
     "output_type": "execute_result"
    },
    {
     "data": {
      "image/png": "[encoded data removed]",
      "text/plain": [
       "<Figure size 432x288 with 2 Axes>"
      ]
     },
     "metadata": {},
     "output_type": "display_data"
    }
   ],
   "source": [
    "# Create a list to store accuracies\n",
    "accuracies = []\n",
    "\n",
    "# Create XGBoost model\n",
    "xgb_model = XGBClassifier(n_estimators=1000, learning_rate=0.05, objective=\"binary:logistic\", eval_metric=\"logloss\", random_state=1)\n",
    "\n",
    "# Fit the model\n",
    "xgb_model.fit(X_train, y_train)\n",
    "\n",
    "# Make predictions\n",
    "y_pred_xgb = xgb_model.predict(X_test)\n",
    "\n",
    "# Evaluate the model\n",
    "accuracy_xgb = accuracy_score(y_test, y_pred_xgb)\n",
    "print(f\"XGBoost Accuracy: {accuracy_xgb}\")\n",
    "accuracies.append({'Model': 'XGBoost', 'Accuracy': accuracy_xgb})\n",
    "\n",
    "# Confusion Matrix\n",
    "cm = confusion_matrix(y_test, y_pred_xgb, normalize='true')\n",
    "target_names = ['NotPlaced', 'Placed']\n",
    "\n",
    "# Display the confusion matrix\n",
    "ConfusionMatrixDisplay(confusion_matrix=cm, display_labels=target_names).plot(cmap='Blues')\n",
    "plt.title('XGBoost Model') "
   ]
  },
  {
   "cell_type": "markdown",
   "id": "15221a8f",
   "metadata": {},
   "source": [
    "# Logistic Regression"
   ]
  },
  {
   "cell_type": "code",
   "execution_count": 27,
   "id": "6d1ad4cd",
   "metadata": {
    "ExecuteTime": {
     "end_time": "2025-01-03T14:03:11.514092Z",
     "start_time": "2025-01-03T14:03:10.555428Z"
    }
   },
   "outputs": [
    {
     "name": "stdout",
     "output_type": "stream",
     "text": [
      "Logistic Regression Accuracy: 0.808\n",
      "              precision    recall  f1-score   support\n",
      "\n",
      "   NotPlaced       0.84      0.83      0.84      1192\n",
      "      Placed       0.76      0.77      0.76       808\n",
      "\n",
      "    accuracy                           0.81      2000\n",
      "   macro avg       0.80      0.80      0.80      2000\n",
      "weighted avg       0.81      0.81      0.81      2000\n",
      "\n"
     ]
    },
    {
     "data": {
      "text/plain": [
       "Text(0.5, 1.0, 'Logistic Regression')"
      ]
     },
     "execution_count": 27,
     "metadata": {},
     "output_type": "execute_result"
    },
    {
     "data": {
      "image/png": "[encoded data removed]",
      "text/plain": [
       "<Figure size 432x288 with 2 Axes>"
      ]
     },
     "metadata": {},
     "output_type": "display_data"
    }
   ],
   "source": [
    "from sklearn.linear_model import LogisticRegression\n",
    "from sklearn.metrics import accuracy_score,classification_report,confusion_matrix,ConfusionMatrixDisplay\n",
    "lr=LogisticRegression(max_iter=50000,penalty=None)\n",
    "lr.fit(X_train,y_train)\n",
    "prediction=lr.predict(X_test)\n",
    "accuracy = accuracy_score(prediction, y_test)\n",
    "print(f\"Logistic Regression Accuracy: {accuracy}\")\n",
    "accuracies.append({'Model': 'Logistic Regression', 'Accuracy': accuracy})\n",
    "\n",
    "target_names=['NotPlaced','Placed']\n",
    "print(classification_report(y_test,prediction,target_names=target_names))\n",
    "cm=confusion_matrix(y_test,prediction,normalize='true')\n",
    "ConfusionMatrixDisplay(confusion_matrix=cm,display_labels=target_names).plot(cmap='Reds')\n",
    "plt.title('Logistic Regression')"
   ]
  },
  {
   "cell_type": "markdown",
   "id": "f1168694",
   "metadata": {},
   "source": [
    "# Decision Tree model"
   ]
  },
  {
   "cell_type": "code",
   "execution_count": 28,
   "id": "c04d8dc0",
   "metadata": {
    "ExecuteTime": {
     "end_time": "2025-01-03T14:03:11.946900Z",
     "start_time": "2025-01-03T14:03:11.517267Z"
    }
   },
   "outputs": [
    {
     "name": "stdout",
     "output_type": "stream",
     "text": [
      "Decision Tree Accuracy: 0.7045\n"
     ]
    },
    {
     "data": {
      "text/plain": [
       "Text(0.5, 1.0, 'Decision Tree')"
      ]
     },
     "execution_count": 28,
     "metadata": {},
     "output_type": "execute_result"
    },
    {
     "data": {
      "image/png": "[encoded data removed]",
      "text/plain": [
       "<Figure size 432x288 with 2 Axes>"
      ]
     },
     "metadata": {},
     "output_type": "display_data"
    }
   ],
   "source": [
    "# Create Decision Tree model\n",
    "dt_model = DecisionTreeClassifier(random_state=1)\n",
    "\n",
    "# Fit the model\n",
    "dt_model.fit(X_train, y_train)\n",
    "\n",
    "# Make predictions\n",
    "y_pred_dt = dt_model.predict(X_test)\n",
    "\n",
    "# Evaluate the model\n",
    "accuracy_dt = accuracy_score(y_test, y_pred_dt)\n",
    "print(f\"Decision Tree Accuracy: {accuracy_dt}\")\n",
    "accuracies.append({'Model': 'Decision Tree', 'Accuracy': accuracy_dt})\n",
    "\n",
    "\n",
    "# Confusion Matrix\n",
    "cm_dt = confusion_matrix(y_test, y_pred_dt, normalize='true')\n",
    "\n",
    "# Display the confusion matrix\n",
    "ConfusionMatrixDisplay(confusion_matrix=cm_dt, display_labels=target_names).plot(cmap='Greens')\n",
    "plt.title('Decision Tree')"
   ]
  },
  {
   "cell_type": "markdown",
   "id": "5c090c95",
   "metadata": {},
   "source": [
    "# Naive Bayes model"
   ]
  },
  {
   "cell_type": "code",
   "execution_count": 29,
   "id": "5650c4ee",
   "metadata": {
    "ExecuteTime": {
     "end_time": "2025-01-03T14:03:12.331569Z",
     "start_time": "2025-01-03T14:03:11.950566Z"
    }
   },
   "outputs": [
    {
     "name": "stdout",
     "output_type": "stream",
     "text": [
      "Naive Bayes Accuracy: 0.8075\n"
     ]
    },
    {
     "data": {
      "text/plain": [
       "Text(0.5, 1.0, 'Naive Bayes')"
      ]
     },
     "execution_count": 29,
     "metadata": {},
     "output_type": "execute_result"
    },
    {
     "data": {
      "image/png": "[encoded data removed]",
      "text/plain": [
       "<Figure size 432x288 with 2 Axes>"
      ]
     },
     "metadata": {},
     "output_type": "display_data"
    }
   ],
   "source": [
    "# Create Naive Bayes model (Gaussian Naive Bayes)\n",
    "nb_model = GaussianNB()\n",
    "\n",
    "# Fit the model\n",
    "nb_model.fit(X_train, y_train)\n",
    "\n",
    "# Make predictions\n",
    "y_pred_nb = nb_model.predict(X_test)\n",
    "\n",
    "# Evaluate the model\n",
    "accuracy_nb = accuracy_score(y_test, y_pred_nb)\n",
    "print(f\"Naive Bayes Accuracy: {accuracy_nb}\")\n",
    "accuracies.append({'Model': 'Naive Bayes', 'Accuracy': accuracy_nb})\n",
    "\n",
    "# Confusion Matrix\n",
    "cm_nb = confusion_matrix(y_test, y_pred_nb, normalize='true')\n",
    "\n",
    "# Display the confusion matrix\n",
    "\n",
    "ConfusionMatrixDisplay(confusion_matrix=cm_nb, display_labels=target_names).plot(cmap='Blues')\n",
    "plt.title('Naive Bayes')"
   ]
  },
  {
   "cell_type": "markdown",
   "id": "6e9b1c6e",
   "metadata": {},
   "source": [
    "# Support vector machines (SVM)"
   ]
  },
  {
   "cell_type": "code",
   "execution_count": 30,
   "id": "a939a6d7",
   "metadata": {
    "ExecuteTime": {
     "end_time": "2025-01-03T14:03:25.854292Z",
     "start_time": "2025-01-03T14:03:12.336248Z"
    }
   },
   "outputs": [
    {
     "name": "stdout",
     "output_type": "stream",
     "text": [
      "SVM Accuracy: 0.8105\n"
     ]
    },
    {
     "data": {
      "text/plain": [
       "Text(0.5, 1.0, 'SVM')"
      ]
     },
     "execution_count": 30,
     "metadata": {},
     "output_type": "execute_result"
    },
    {
     "data": {
      "image/png": "[encoded data removed]",
      "text/plain": [
       "<Figure size 432x288 with 2 Axes>"
      ]
     },
     "metadata": {},
     "output_type": "display_data"
    }
   ],
   "source": [
    "from sklearn.svm import SVC\n",
    "\n",
    "svm_model = SVC(kernel='linear', random_state=1)\n",
    "\n",
    "# Fit the model\n",
    "svm_model.fit(X_train, y_train)\n",
    "\n",
    "# Make predictions\n",
    "y_pred_svm = svm_model.predict(X_test)\n",
    "\n",
    "# Evaluate the model\n",
    "#svm best in case of overfitting model\n",
    "accuracy_svm = accuracy_score(y_test, y_pred_svm)\n",
    "print(f\"SVM Accuracy: {accuracy_svm}\")\n",
    "accuracies.append({'Model': 'Support Vector Machine', 'Accuracy': accuracy_svm})\n",
    "# Confusion Matrix\n",
    "cm_svm = confusion_matrix(y_test, y_pred_svm, normalize='true')\n",
    "\n",
    "# Display the confusion matrix\n",
    "ConfusionMatrixDisplay(confusion_matrix=cm_svm, display_labels=target_names).plot(cmap='Blues')\n",
    "plt.title('SVM')"
   ]
  },
  {
   "cell_type": "code",
   "execution_count": 31,
   "id": "0746fcc2",
   "metadata": {
    "ExecuteTime": {
     "end_time": "2025-01-03T14:03:26.426031Z",
     "start_time": "2025-01-03T14:03:25.860118Z"
    }
   },
   "outputs": [],
   "source": [
    "import matplotlib.pyplot as plt\n",
    "from sklearn.metrics import ConfusionMatrixDisplay\n",
    "\n",
    "# Assuming you have models named cgb_model, lr_model, dt_model, nb_model, svm_model, lgb_model\n",
    "models = {'XG-Boost': xgb_model, 'Logistic Regression': lr, 'Decision Trees': dt_model, 'Naive Bayes': nb_model, 'SVM': svm_model}\n",
    "\n",
    "# Create a list to store accuracies\n",
    "accuracies = []\n",
    "\n",
    "# Iterate over models\n",
    "for model_name, model in models.items():\n",
    "    # Make predictions\n",
    "    y_pred = model.predict(X_test)\n",
    "\n",
    "    # Evaluate the model\n",
    "    accuracy = accuracy_score(y_test, y_pred)\n",
    "    \n",
    "      # Precision, Recall, F1 Score, Specificity\n",
    "    precision = precision_score(y_test, y_pred)\n",
    "    recall = recall_score(y_test, y_pred)\n",
    "    f1 = f1_score(y_test, y_pred)\n",
    "\n",
    "    # Calculate specificity\n",
    "    tn, fp, fn, tp = cm.ravel()\n",
    "    specificity = tn / (tn + fp)\n",
    "\n",
    "    # Append metrics to the accuracies list\n",
    "    accuracies.append({\n",
    "        'Model': model_name,\n",
    "        'Accuracy': accuracy,\n",
    "        'Precision': precision,\n",
    "        'Recall': recall,\n",
    "        'F1 Score': f1,\n",
    "        'Specificity': specificity\n",
    "    })"
   ]
  },
  {
   "cell_type": "code",
   "execution_count": null,
   "id": "c8f698a6",
   "metadata": {
    "ExecuteTime": {
     "start_time": "2025-01-03T14:13:13.834Z"
    }
   },
   "outputs": [
    {
     "name": "stdout",
     "output_type": "stream",
     "text": [
      "╒═════════════════════╤════════════╤═════════════╤══════════╤════════════╤═══════════════╕\n",
      "│ Model               │   Accuracy │   Precision │   Recall │   F1 Score │   Specificity │\n",
      "╞═════════════════════╪════════════╪═════════════╪══════════╪════════════╪═══════════════╡\n",
      "│ XG-Boost            │     0.795  │    0.75     │ 0.738861 │   0.744389 │      0.831376 │\n",
      "├─────────────────────┼────────────┼─────────────┼──────────┼────────────┼───────────────┤\n",
      "│ Logistic Regression │     0.808  │    0.756659 │ 0.773515 │   0.764994 │      0.831376 │\n",
      "├─────────────────────┼────────────┼─────────────┼──────────┼────────────┼───────────────┤\n",
      "│ Decision Trees      │     0.7045 │    0.632156 │ 0.642327 │   0.637201 │      0.831376 │\n",
      "├─────────────────────┼────────────┼─────────────┼──────────┼────────────┼───────────────┤\n",
      "│ Naive Bayes         │     0.8075 │    0.741163 │ 0.804455 │   0.771513 │      0.831376 │\n",
      "├─────────────────────┼────────────┼─────────────┼──────────┼────────────┼───────────────┤\n",
      "│ SVM                 │     0.8105 │    0.758745 │ 0.778465 │   0.768479 │      0.831376 │\n",
      "╘═════════════════════╧════════════╧═════════════╧══════════╧════════════╧═══════════════╛\n",
      "Enter CGPA: 9.08\n",
      "Enter Internships: 3\n",
      "Enter Projects: 5\n",
      "Enter Workshops/Certifications: 2\n",
      "Enter AptitudeTestScore: 70\n"
     ]
    }
   ],
   "source": [
    "from termcolor import colored  # Add this import statement\n",
    "\n",
    "accuracy_df = pd.DataFrame(accuracies)\n",
    "\n",
    "# Remove duplicate rows based on the 'Model' column\n",
    "accuracy_df = accuracy_df.drop_duplicates(subset='Model', keep='first')\n",
    "\n",
    "# Display the accuracies in a beautified and colored tabular form\n",
    "headers = accuracy_df.columns\n",
    "data = accuracy_df.values  # Make sure 'data' is defined here\n",
    "\n",
    "colored_table = [[colored(cell, 'blue', attrs=['bold']) if i == 0 else cell for i, cell in enumerate(row)] for row in data]\n",
    "print(tabulate(colored_table, headers=headers, tablefmt='fancy_grid', showindex=False))\n",
    "\n",
    "# Define the input features in the same order as the model was trained\n",
    "feature_names = ['CGPA', 'Internships', 'Projects', 'Workshops/Certifications', 'AptitudeTestScore',\n",
    "                 'SoftSkillsRating', 'ExtracurricularActivities', 'PlacementTraining', 'SSC_Marks', 'HSC_Marks']\n",
    "\n",
    "# Function to get input from the user\n",
    "def get_user_input():\n",
    "    user_input = []\n",
    "    for feature in feature_names:\n",
    "        value = float(input(f\"Enter {feature}: \"))\n",
    "        user_input.append(value)\n",
    "    return np.array(user_input).reshape(1, -1)\n",
    "\n",
    "# Get user input\n",
    "user_data = get_user_input()\n",
    "\n",
    "# Make prediction\n",
    "placement_prediction = svm_model.predict(user_data)\n",
    "\n",
    "# Print the prediction\n",
    "if placement_prediction[0] == 1:\n",
    "    print(\"The SVM model predicts that the student will be placed.\")\n",
    "else:\n",
    "    print(\"The SVM model predicts that the student will not be placed.\")"
   ]
  },
  {
   "cell_type": "code",
   "execution_count": 33,
   "id": "be7a4583",
   "metadata": {
    "ExecuteTime": {
     "end_time": "2025-01-03T14:04:39.604777Z",
     "start_time": "2025-01-03T14:04:39.588707Z"
    }
   },
   "outputs": [],
   "source": [
    "import pickle\n",
    "# output = open('data.pkl', 'wb')\n",
    "# Pickle dictionary using protocol 0.\n",
    "filename = 'savedmodel.sav'\n",
    "pickle.dump(svm_model, open(filename,'wb'))"
   ]
  },
  {
   "cell_type": "code",
   "execution_count": 34,
   "id": "3a9c247a",
   "metadata": {
    "ExecuteTime": {
     "end_time": "2025-01-03T14:04:39.666523Z",
     "start_time": "2025-01-03T14:04:39.609805Z"
    }
   },
   "outputs": [
    {
     "name": "stderr",
     "output_type": "stream",
     "text": [
      "C:\\Users\\Sarvesh\\anaconda3\\lib\\site-packages\\sklearn\\base.py:493: UserWarning: X does not have valid feature names, but SVC was fitted with feature names\n",
      "  warnings.warn(\n"
     ]
    },
    {
     "data": {
      "text/plain": [
       "array([1])"
      ]
     },
     "execution_count": 34,
     "metadata": {},
     "output_type": "execute_result"
    }
   ],
   "source": [
    "load_model = pickle.load(open(filename,'rb'))\n",
    "load_model.predict([[8.9,0,3,2,90,4.0,1,1,78,82]])"
   ]
  },
  {
   "cell_type": "code",
   "execution_count": 36,
   "id": "d04b8d0a",
   "metadata": {
    "ExecuteTime": {
     "end_time": "2025-01-03T14:12:20.415883Z",
     "start_time": "2025-01-03T14:12:06.864517Z"
    }
   },
   "outputs": [
    {
     "name": "stdout",
     "output_type": "stream",
     "text": [
      "Collecting lightgbm\n",
      "  Downloading lightgbm-4.5.0-py3-none-win_amd64.whl (1.4 MB)\n",
      "     ---------------------------------------- 1.4/1.4 MB 3.3 MB/s eta 0:00:00\n",
      "Requirement already satisfied: scipy in c:\\users\\sarvesh\\anaconda3\\lib\\site-packages (from lightgbm) (1.13.1)\n",
      "Requirement already satisfied: numpy>=1.17.0 in c:\\users\\sarvesh\\anaconda3\\lib\\site-packages (from lightgbm) (1.26.4)\n",
      "Installing collected packages: lightgbm\n",
      "Successfully installed lightgbm-4.5.0\n"
     ]
    },
    {
     "name": "stderr",
     "output_type": "stream",
     "text": [
      "WARNING: You are using pip version 22.0.4; however, version 24.3.1 is available.\n",
      "You should consider upgrading via the 'C:\\Users\\Sarvesh\\anaconda3\\python.exe -m pip install --upgrade pip' command.\n"
     ]
    }
   ],
   "source": [
    "!pip install lightgbm"
   ]
  },
  {
   "cell_type": "code",
   "execution_count": 37,
   "id": "fb6b5d23",
   "metadata": {
    "ExecuteTime": {
     "end_time": "2025-01-03T14:12:24.262292Z",
     "start_time": "2025-01-03T14:12:20.417410Z"
    }
   },
   "outputs": [
    {
     "name": "stdout",
     "output_type": "stream",
     "text": [
      "[LightGBM] [Info] Number of positive: 2930, number of negative: 4070\n",
      "[LightGBM] [Info] Auto-choosing row-wise multi-threading, the overhead of testing was 0.000877 seconds.\n",
      "You can set `force_row_wise=true` to remove the overhead.\n",
      "And if memory is not enough, you can set `force_col_wise=true`.\n",
      "[LightGBM] [Info] Total Bins 169\n",
      "[LightGBM] [Info] Number of data points in the train set: 7000, number of used features: 12\n",
      "[LightGBM] [Info] [binary:BoostFromScore]: pavg=0.418571 -> initscore=-0.328641\n",
      "[LightGBM] [Info] Start training from score -0.328641\n"
     ]
    },
    {
     "data": {
      "image/png": "[encoded data removed]",
      "text/plain": [
       "<Figure size 432x288 with 1 Axes>"
      ]
     },
     "metadata": {},
     "output_type": "display_data"
    }
   ],
   "source": [
    "import lightgbm as lgb\n",
    "import pandas as pd\n",
    "import matplotlib.pyplot as plt\n",
    "from sklearn.model_selection import train_test_split\n",
    "\n",
    "# Load your dataset\n",
    "df=pd.read_csv('placedata.csv')\n",
    "\n",
    "# Preprocess your data: Convert categorical variables to one-hot encoding\n",
    "categorical_cols = ['ExtracurricularActivities', 'PlacementTraining']\n",
    "df_encoded = pd.get_dummies(df, columns=categorical_cols)\n",
    "\n",
    "# Define features (X) and target variable (y)\n",
    "X = df_encoded[['CGPA', 'Internships', 'Projects', 'Workshops/Certifications', 'AptitudeTestScore', 'SoftSkillsRating', 'SSC_Marks', 'HSC_Marks',\n",
    "                'ExtracurricularActivities_No', 'ExtracurricularActivities_Yes', 'PlacementTraining_No', 'PlacementTraining_Yes']]\n",
    "y = df_encoded['PlacementStatus']\n",
    "\n",
    "# Split the data into training and testing sets\n",
    "X_train, X_test, y_train, y_test = train_test_split(X, y, test_size=0.3)\n",
    "\n",
    "# Create and train the LightGBM model\n",
    "clf = lgb.LGBMClassifier()\n",
    "clf.fit(X_train, y_train)\n",
    "\n",
    "# Access feature importance\n",
    "feature_importance = clf.feature_importances_\n",
    "\n",
    "# Map feature importance to feature names\n",
    "feature_names = X.columns\n",
    "feature_importance_dict = dict(zip(feature_names, feature_importance))\n",
    "\n",
    "# Sort and visualize feature importance\n",
    "sorted_feature_importance = sorted(feature_importance_dict.items(), key=lambda x: x[1], reverse=True)\n",
    "\n",
    "# Plotting\n",
    "features, importance = zip(*sorted_feature_importance)\n",
    "plt.barh(features, importance)\n",
    "plt.xlabel('Feature Importance')\n",
    "plt.ylabel('Feature Names')\n",
    "plt.title('Feature Importance Plot')\n",
    "plt.show()\n"
   ]
  },
  {
   "cell_type": "code",
   "execution_count": null,
   "id": "d35b932e",
   "metadata": {},
   "outputs": [],
   "source": []
  }
 ],
 "metadata": {
  "kernelspec": {
   "display_name": "Python 3 (ipykernel)",
   "language": "python",
   "name": "python3"
  },
  "language_info": {
   "codemirror_mode": {
    "name": "ipython",
    "version": 3
   },
   "file_extension": ".py",
   "mimetype": "text/x-python",
   "name": "python",
   "nbconvert_exporter": "python",
   "pygments_lexer": "ipython3",
   "version": "3.9.12"
  }
 },
 "nbformat": 4,
 "nbformat_minor": 5
}
